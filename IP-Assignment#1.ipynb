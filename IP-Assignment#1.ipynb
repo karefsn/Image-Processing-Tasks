{
 "cells": [
  {
   "cell_type": "code",
   "execution_count": 294,
   "metadata": {},
   "outputs": [],
   "source": [
    "import numpy as np\n",
    "from PIL import Image\n",
    "import matplotlib.pyplot as plt"
   ]
  },
  {
   "cell_type": "code",
   "execution_count": 311,
   "metadata": {},
   "outputs": [],
   "source": [
    "def equalise_histogram(img, elements, frequency):\n",
    "    \n",
    "    cumu_freq = np.zeros((len(frequency),),dtype=int)\n",
    "    output = np.zeros((len(frequency),),dtype=int)\n",
    "    \n",
    "    levels = len(frequency) -1\n",
    "    size = img.width * img.height\n",
    "    \n",
    "    cumu_freq[0]= frequency[0]\n",
    "    val = round((levels/size)* cumu_freq[0])\n",
    "    output[0] = val\n",
    "    \n",
    "    for i in range(1,len(frequency)):\n",
    "        cumu_freq[i]= frequency[i] + cumu_freq[i-1]\n",
    "        val = round((levels/size)* cumu_freq[i])\n",
    "        output[i] = val\n",
    "    \n",
    "    w,h = img.size\n",
    "    pixelmap = img.load()\n",
    "    \n",
    "    for i in range(0,w):\n",
    "        for j in range(0,h):\n",
    "            val = pixelmap[i,j]\n",
    "            index = elements.index(val)\n",
    "            pixelmap[i,j] = elements[output[index]]\n",
    "            \n",
    "            \n",
    "    #plt.imshow(img, cmap='gray') \n",
    "    #plt.show()"
   ]
  },
  {
   "cell_type": "code",
   "execution_count": 304,
   "metadata": {},
   "outputs": [],
   "source": [
    "def histogram(img):    \n",
    "    pixelmap = list(img.getdata())\n",
    "    elements = list(set(pixelmap))\n",
    "    frequency = np.zeros((len(elements),),dtype=int)\n",
    "  \n",
    "    for i in range(len(elements)):   \n",
    "        val = pixelmap.count(elements[i])\n",
    "        frequency[i] = val\n",
    "    \n",
    "    \n",
    "    frequency= list(frequency)\n",
    "    \n",
    "    equalise_histogram(img, elements, frequency)\n",
    "\n",
    "\n",
    "#     plt.bar(elements,frequency, width=0.8, tick_label = frequency, color= 'purple')\n",
    "#     plt.rcParams[\"figure.figsize\"] = (20,10)\n",
    "#     plt.xticks(elements, elements, size=30)\n",
    "#     plt.ylabel('Pixel Count',size=30)\n",
    "# \n"
   ]
  },
  {
   "cell_type": "code",
   "execution_count": 312,
   "metadata": {},
   "outputs": [],
   "source": [
    "image = Image.open('Sphinx.png')\n",
    "img_copy = image.copy()\n",
    "histogram(img_copy)"
   ]
  },
  {
   "cell_type": "code",
   "execution_count": null,
   "metadata": {},
   "outputs": [],
   "source": []
  },
  {
   "cell_type": "code",
   "execution_count": null,
   "metadata": {},
   "outputs": [],
   "source": []
  }
 ],
 "metadata": {
  "kernelspec": {
   "display_name": "Python 3",
   "language": "python",
   "name": "python3"
  },
  "language_info": {
   "codemirror_mode": {
    "name": "ipython",
    "version": 3
   },
   "file_extension": ".py",
   "mimetype": "text/x-python",
   "name": "python",
   "nbconvert_exporter": "python",
   "pygments_lexer": "ipython3",
   "version": "3.7.3"
  }
 },
 "nbformat": 4,
 "nbformat_minor": 2
}
