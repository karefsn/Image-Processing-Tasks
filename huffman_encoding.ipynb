{
 "cells": [
  {
   "cell_type": "code",
   "execution_count": 267,
   "metadata": {},
   "outputs": [],
   "source": [
    "import numpy as np\n",
    "from PIL import Image"
   ]
  },
  {
   "cell_type": "code",
   "execution_count": 6,
   "metadata": {},
   "outputs": [],
   "source": [
    "input_img = Image.open('cameraman.tif').convert('L')"
   ]
  },
  {
   "cell_type": "code",
   "execution_count": 266,
   "metadata": {},
   "outputs": [],
   "source": [
    "pixel_map = np.array(input_img)"
   ]
  },
  {
   "cell_type": "code",
   "execution_count": 493,
   "metadata": {},
   "outputs": [],
   "source": [
    "gray_levels, gray_levels_counts = np.unique(pixel_map, return_counts=True)\n",
    "indices = (-gray_levels_counts).argsort()\n",
    "sorted_gray_levels = gray_levels[indices]"
   ]
  },
  {
   "cell_type": "code",
   "execution_count": 550,
   "metadata": {},
   "outputs": [],
   "source": [
    "def reduce_source(pixel_probabilities):\n",
    "    \n",
    "    reduced_pixels = []\n",
    "    summation_values_indices = []\n",
    "    total_reductions = len(pixel_probabilities) - 2\n",
    "    \n",
    "    pixel_probabilitie = list(np.sort(pixel_probabilities)[::-1])\n",
    "    first_reduction = list(pixel_probabilities[0:len(pixel_probabilities) - 2])    \n",
    "    summed_value = np.sum(pixel_probabilities[total_reductions: len(pixel_probabilities)])\n",
    "    first_reduction.append(summed_value)\n",
    "    \n",
    "    first_reduction.sort(reverse= True)\n",
    "    reduced_pixels.append(first_reduction)\n",
    "    \n",
    "    summed_value_index = [index for index, value in enumerate(first_reduction) if value == summed_value]\n",
    "    summation_values_indices.append(summed_value_index[len(summed_value_index)-1])\n",
    "    \n",
    "    for reduction_stage in range(total_reductions-1):\n",
    "        \n",
    "        reduction = []\n",
    "        \n",
    "        last_reduction_index = len(reduced_pixels) - 1\n",
    "        last_reduction = list(reduced_pixels[last_reduction_index])\n",
    "        last_reduction.sort(reverse= True)\n",
    "        \n",
    "        last_reduction_length = len(last_reduction)\n",
    "        reduction.extend(last_reduction[0:len(last_reduction) - 2])\n",
    "        summed_value = last_reduction[last_reduction_length-2 : last_reduction_length]\n",
    "        summed_value = np.sum(summed_value)\n",
    "        \n",
    "        reduction.extend([summed_value])\n",
    "        reduction.sort(reverse= True)\n",
    "        reduced_pixels.append(reduction)\n",
    "        \n",
    "        summed_value_index = [index for index, value in enumerate(reduction) if value == summed_value]\n",
    "        summation_values_indices.append(summed_value_index[len(summed_value_index)-1])\n",
    "        \n",
    "    return reduced_pixels, summation_values_indices\n",
    "    "
   ]
  },
  {
   "cell_type": "code",
   "execution_count": 523,
   "metadata": {},
   "outputs": [],
   "source": [
    "def encode_reductions(reductions, summed_values_indices):\n",
    "    \n",
    "    reduction_encodings = []\n",
    "    encoding = []\n",
    "     \n",
    "    reduction_encodings.append(['0','1'])\n",
    "    \n",
    "    sum_index_to_access = len(summed_values_indices) - 1\n",
    "    sum_index = summed_values_indices[sum_index_to_access]\n",
    "    \n",
    "    sum_encoding_list = reduction_encodings[0]\n",
    "    sum_encoding = sum_encoding_list[sum_index]\n",
    "    \n",
    "    encoding.extend(sum_encoding_list[0:sum_index])\n",
    "    encoding.extend(sum_encoding_list[sum_index+1: len(sum_encoding_list)])\n",
    "    encoding.append(sum_encoding + '0')\n",
    "    encoding.append(sum_encoding + '1')\n",
    "    \n",
    "    \n",
    "    reduction_encodings.insert(0,encoding)\n",
    "    \n",
    "    \n",
    "    for encoding_stage in range(1,len(reductions)):\n",
    "        \n",
    "        encoding = []\n",
    "        \n",
    "        index_to_access = len(summed_values_indices) - encoding_stage - 1\n",
    "        sum_index = summed_values_indices[index_to_access]\n",
    "        \n",
    "        sum_encoding_list = reduction_encodings[0]\n",
    "        sum_encoding = sum_encoding_list[sum_index]\n",
    "        \n",
    "        encoding.extend(sum_encoding_list[0:sum_index])\n",
    "        encoding.extend(sum_encoding_list[sum_index+1: len(sum_encoding_list)])\n",
    "        encoding.append(sum_encoding + '0')\n",
    "        encoding.append(sum_encoding + '1')\n",
    "        \n",
    "        reduction_encodings.insert(0,encoding)\n",
    "        \n",
    "        \n",
    "    return reduction_encodings\n",
    "               "
   ]
  },
  {
   "cell_type": "code",
   "execution_count": 539,
   "metadata": {},
   "outputs": [],
   "source": [
    "def encode_image(pixel_map, img_dictionary):\n",
    "    \n",
    "    img_binary_encoding = ''\n",
    "    width, height = pixel_map.shape\n",
    "    \n",
    "    for width_index in range(0, width): \n",
    "        for height_index in range(0, height):\n",
    "            \n",
    "            pixel = pixel_map[width_index][height_index]\n",
    "            pixel_encoding = img_dictionary.get(pixel)\n",
    "            \n",
    "            img_binary_encoding += pixel_encoding\n",
    "        \n",
    "    return img_binary_encoding"
   ]
  },
  {
   "cell_type": "code",
   "execution_count": 519,
   "metadata": {},
   "outputs": [],
   "source": [
    "reductions, summation_indices = reduce_source(gray_levels_counts)\n",
    "reduction_encodings = encode_reductions(reductions, summation_indices)"
   ]
  },
  {
   "cell_type": "code",
   "execution_count": 520,
   "metadata": {},
   "outputs": [],
   "source": [
    "gray_levels = list(gray_levels)\n",
    "gray_levels.sort(reverse = True)\n",
    "dictionary = dict(zip(sorted_gray_levels, reduction_encodings[0]))"
   ]
  },
  {
   "cell_type": "code",
   "execution_count": 522,
   "metadata": {},
   "outputs": [],
   "source": [
    "with open('Dict.txt', 'w') as file:\n",
    "    for pixel_value, pixel_encoding in dictionary.items():\n",
    "        file.write(str(pixel_value) + ' : '+ str(pixel_encoding) + '\\n\\n')"
   ]
  },
  {
   "cell_type": "code",
   "execution_count": 541,
   "metadata": {},
   "outputs": [],
   "source": [
    "binary_encoding = encode_image(pixel_map, dictionary)"
   ]
  },
  {
   "cell_type": "code",
   "execution_count": 543,
   "metadata": {},
   "outputs": [],
   "source": [
    "with open('BinCode.txt', 'w') as file:\n",
    "        file.write(binary_encoding)"
   ]
  },
  {
   "cell_type": "code",
   "execution_count": 546,
   "metadata": {},
   "outputs": [],
   "source": [
    "# lecture_reductions = [[0.4, 0.3, 0.1, 0.1, 0.1], [0.4, 0.3, 0.2, 0.1], [0.4, 0.3, 0.3], [0.6, 0.4]]\n",
    "# summation_reductions = [4, 2, 2, 0]\n",
    "# reductions, summation_indices = reduce_source([0.4,0.3,0.1,0.1,0.06,0.04])\n",
    "# reduction_encodings = encode_reductions(lecture_reductions, summation_reductions)"
   ]
  },
  {
   "cell_type": "code",
   "execution_count": 547,
   "metadata": {},
   "outputs": [],
   "source": [
    "#### third value (index:2) in [0.4,0.3,0.2,0.1,0.06,0.04] was changed because dictionaries do not allow repeated keys!\n",
    "# lecture_dictionary = dict(zip([0.4,0.3,0.2,0.1,0.06,0.04], reduction_encodings[0]))\n",
    "\n",
    "# with open('lecture_Dict.txt', 'w') as file:\n",
    "#     for pixel_value, pixel_encoding in lecture_dictionary.items():\n",
    "#         file.write(str(pixel_value) + ' : '+ str(pixel_encoding) + '\\n\\n')"
   ]
  }
 ],
 "metadata": {
  "kernelspec": {
   "display_name": "Python 3",
   "language": "python",
   "name": "python3"
  },
  "language_info": {
   "codemirror_mode": {
    "name": "ipython",
    "version": 3
   },
   "file_extension": ".py",
   "mimetype": "text/x-python",
   "name": "python",
   "nbconvert_exporter": "python",
   "pygments_lexer": "ipython3",
   "version": "3.7.3"
  }
 },
 "nbformat": 4,
 "nbformat_minor": 2
}
